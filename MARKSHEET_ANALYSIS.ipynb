{
 "cells": [
  {
   "cell_type": "code",
   "execution_count": 1,
   "id": "63cfbf2c-7c57-497f-8653-50daf60eb567",
   "metadata": {},
   "outputs": [],
   "source": [
    "import pandas as pd\n",
    "import matplotlib.pyplot as plt\n",
    "import seaborn as sns"
   ]
  },
  {
   "cell_type": "code",
   "execution_count": 2,
   "id": "1c17fd5d-d9b7-4a9d-9260-c2e392900876",
   "metadata": {},
   "outputs": [],
   "source": [
    "file_path =\"C:\\\\Users\\\\BROZ\\\\Desktop\\\\Excel\\\\mark_sheet_dataset.csv\""
   ]
  },
  {
   "cell_type": "code",
   "execution_count": 3,
   "id": "8a845db4-185f-44ac-b143-62b267495556",
   "metadata": {},
   "outputs": [
    {
     "data": {
      "text/html": [
       "<div>\n",
       "<style scoped>\n",
       "    .dataframe tbody tr th:only-of-type {\n",
       "        vertical-align: middle;\n",
       "    }\n",
       "\n",
       "    .dataframe tbody tr th {\n",
       "        vertical-align: top;\n",
       "    }\n",
       "\n",
       "    .dataframe thead th {\n",
       "        text-align: right;\n",
       "    }\n",
       "</style>\n",
       "<table border=\"1\" class=\"dataframe\">\n",
       "  <thead>\n",
       "    <tr style=\"text-align: right;\">\n",
       "      <th></th>\n",
       "      <th>Student_ID</th>\n",
       "      <th>Gender</th>\n",
       "      <th>Math_Score</th>\n",
       "      <th>English_Score</th>\n",
       "      <th>Science_Score</th>\n",
       "      <th>Attendance</th>\n",
       "    </tr>\n",
       "  </thead>\n",
       "  <tbody>\n",
       "    <tr>\n",
       "      <th>0</th>\n",
       "      <td>S1001</td>\n",
       "      <td>Female</td>\n",
       "      <td>79.967142</td>\n",
       "      <td>86.792265</td>\n",
       "      <td>72.598574</td>\n",
       "      <td>75.460962</td>\n",
       "    </tr>\n",
       "    <tr>\n",
       "      <th>1</th>\n",
       "      <td>S1002</td>\n",
       "      <td>Male</td>\n",
       "      <td>73.617357</td>\n",
       "      <td>81.095604</td>\n",
       "      <td>76.843851</td>\n",
       "      <td>80.698075</td>\n",
       "    </tr>\n",
       "    <tr>\n",
       "      <th>2</th>\n",
       "      <td>S1003</td>\n",
       "      <td>Female</td>\n",
       "      <td>81.476885</td>\n",
       "      <td>70.715564</td>\n",
       "      <td>71.660641</td>\n",
       "      <td>82.931972</td>\n",
       "    </tr>\n",
       "    <tr>\n",
       "      <th>3</th>\n",
       "      <td>S1004</td>\n",
       "      <td>Female</td>\n",
       "      <td>90.230299</td>\n",
       "      <td>62.236759</td>\n",
       "      <td>75.536308</td>\n",
       "      <td>94.438438</td>\n",
       "    </tr>\n",
       "    <tr>\n",
       "      <th>4</th>\n",
       "      <td>S1005</td>\n",
       "      <td>Female</td>\n",
       "      <td>72.658466</td>\n",
       "      <td>78.378680</td>\n",
       "      <td>62.851083</td>\n",
       "      <td>87.782766</td>\n",
       "    </tr>\n",
       "    <tr>\n",
       "      <th>...</th>\n",
       "      <td>...</td>\n",
       "      <td>...</td>\n",
       "      <td>...</td>\n",
       "      <td>...</td>\n",
       "      <td>...</td>\n",
       "      <td>...</td>\n",
       "    </tr>\n",
       "    <tr>\n",
       "      <th>1000</th>\n",
       "      <td>S2001</td>\n",
       "      <td>Male</td>\n",
       "      <td>30.000000</td>\n",
       "      <td>20.000000</td>\n",
       "      <td>25.000000</td>\n",
       "      <td>40.000000</td>\n",
       "    </tr>\n",
       "    <tr>\n",
       "      <th>1001</th>\n",
       "      <td>S2002</td>\n",
       "      <td>Male</td>\n",
       "      <td>135.000000</td>\n",
       "      <td>125.000000</td>\n",
       "      <td>120.000000</td>\n",
       "      <td>100.000000</td>\n",
       "    </tr>\n",
       "    <tr>\n",
       "      <th>1002</th>\n",
       "      <td>S1001</td>\n",
       "      <td>Female</td>\n",
       "      <td>79.967142</td>\n",
       "      <td>86.792265</td>\n",
       "      <td>72.598574</td>\n",
       "      <td>75.460962</td>\n",
       "    </tr>\n",
       "    <tr>\n",
       "      <th>1003</th>\n",
       "      <td>S1002</td>\n",
       "      <td>Male</td>\n",
       "      <td>73.617357</td>\n",
       "      <td>81.095604</td>\n",
       "      <td>76.843851</td>\n",
       "      <td>80.698075</td>\n",
       "    </tr>\n",
       "    <tr>\n",
       "      <th>1004</th>\n",
       "      <td>S1003</td>\n",
       "      <td>Female</td>\n",
       "      <td>81.476885</td>\n",
       "      <td>70.715564</td>\n",
       "      <td>71.660641</td>\n",
       "      <td>82.931972</td>\n",
       "    </tr>\n",
       "  </tbody>\n",
       "</table>\n",
       "<p>1005 rows × 6 columns</p>\n",
       "</div>"
      ],
      "text/plain": [
       "     Student_ID  Gender  Math_Score  English_Score  Science_Score  Attendance\n",
       "0         S1001  Female   79.967142      86.792265      72.598574   75.460962\n",
       "1         S1002    Male   73.617357      81.095604      76.843851   80.698075\n",
       "2         S1003  Female   81.476885      70.715564      71.660641   82.931972\n",
       "3         S1004  Female   90.230299      62.236759      75.536308   94.438438\n",
       "4         S1005  Female   72.658466      78.378680      62.851083   87.782766\n",
       "...         ...     ...         ...            ...            ...         ...\n",
       "1000      S2001    Male   30.000000      20.000000      25.000000   40.000000\n",
       "1001      S2002    Male  135.000000     125.000000     120.000000  100.000000\n",
       "1002      S1001  Female   79.967142      86.792265      72.598574   75.460962\n",
       "1003      S1002    Male   73.617357      81.095604      76.843851   80.698075\n",
       "1004      S1003  Female   81.476885      70.715564      71.660641   82.931972\n",
       "\n",
       "[1005 rows x 6 columns]"
      ]
     },
     "execution_count": 3,
     "metadata": {},
     "output_type": "execute_result"
    }
   ],
   "source": [
    "df = pd.read_csv(file_path,delimiter=',')\n",
    "df"
   ]
  },
  {
   "cell_type": "code",
   "execution_count": 4,
   "id": "b9373d1c-e86a-4c28-a39b-aa9a8b55c595",
   "metadata": {},
   "outputs": [
    {
     "data": {
      "text/html": [
       "<div>\n",
       "<style scoped>\n",
       "    .dataframe tbody tr th:only-of-type {\n",
       "        vertical-align: middle;\n",
       "    }\n",
       "\n",
       "    .dataframe tbody tr th {\n",
       "        vertical-align: top;\n",
       "    }\n",
       "\n",
       "    .dataframe thead th {\n",
       "        text-align: right;\n",
       "    }\n",
       "</style>\n",
       "<table border=\"1\" class=\"dataframe\">\n",
       "  <thead>\n",
       "    <tr style=\"text-align: right;\">\n",
       "      <th></th>\n",
       "      <th>Student_ID</th>\n",
       "      <th>Gender</th>\n",
       "      <th>Math_Score</th>\n",
       "      <th>English_Score</th>\n",
       "      <th>Science_Score</th>\n",
       "      <th>Attendance</th>\n",
       "    </tr>\n",
       "  </thead>\n",
       "  <tbody>\n",
       "    <tr>\n",
       "      <th>0</th>\n",
       "      <td>S1001</td>\n",
       "      <td>Female</td>\n",
       "      <td>79.967142</td>\n",
       "      <td>86.792265</td>\n",
       "      <td>72.598574</td>\n",
       "      <td>75.460962</td>\n",
       "    </tr>\n",
       "    <tr>\n",
       "      <th>1</th>\n",
       "      <td>S1002</td>\n",
       "      <td>Male</td>\n",
       "      <td>73.617357</td>\n",
       "      <td>81.095604</td>\n",
       "      <td>76.843851</td>\n",
       "      <td>80.698075</td>\n",
       "    </tr>\n",
       "    <tr>\n",
       "      <th>2</th>\n",
       "      <td>S1003</td>\n",
       "      <td>Female</td>\n",
       "      <td>81.476885</td>\n",
       "      <td>70.715564</td>\n",
       "      <td>71.660641</td>\n",
       "      <td>82.931972</td>\n",
       "    </tr>\n",
       "    <tr>\n",
       "      <th>3</th>\n",
       "      <td>S1004</td>\n",
       "      <td>Female</td>\n",
       "      <td>90.230299</td>\n",
       "      <td>62.236759</td>\n",
       "      <td>75.536308</td>\n",
       "      <td>94.438438</td>\n",
       "    </tr>\n",
       "    <tr>\n",
       "      <th>4</th>\n",
       "      <td>S1005</td>\n",
       "      <td>Female</td>\n",
       "      <td>72.658466</td>\n",
       "      <td>78.378680</td>\n",
       "      <td>62.851083</td>\n",
       "      <td>87.782766</td>\n",
       "    </tr>\n",
       "  </tbody>\n",
       "</table>\n",
       "</div>"
      ],
      "text/plain": [
       "  Student_ID  Gender  Math_Score  English_Score  Science_Score  Attendance\n",
       "0      S1001  Female   79.967142      86.792265      72.598574   75.460962\n",
       "1      S1002    Male   73.617357      81.095604      76.843851   80.698075\n",
       "2      S1003  Female   81.476885      70.715564      71.660641   82.931972\n",
       "3      S1004  Female   90.230299      62.236759      75.536308   94.438438\n",
       "4      S1005  Female   72.658466      78.378680      62.851083   87.782766"
      ]
     },
     "execution_count": 4,
     "metadata": {},
     "output_type": "execute_result"
    }
   ],
   "source": [
    "df.head()"
   ]
  },
  {
   "cell_type": "code",
   "execution_count": 5,
   "id": "a0aa8ebf-b4ca-4d4e-984f-716e1abacdd4",
   "metadata": {},
   "outputs": [
    {
     "data": {
      "text/html": [
       "<div>\n",
       "<style scoped>\n",
       "    .dataframe tbody tr th:only-of-type {\n",
       "        vertical-align: middle;\n",
       "    }\n",
       "\n",
       "    .dataframe tbody tr th {\n",
       "        vertical-align: top;\n",
       "    }\n",
       "\n",
       "    .dataframe thead th {\n",
       "        text-align: right;\n",
       "    }\n",
       "</style>\n",
       "<table border=\"1\" class=\"dataframe\">\n",
       "  <thead>\n",
       "    <tr style=\"text-align: right;\">\n",
       "      <th></th>\n",
       "      <th>Math_Score</th>\n",
       "      <th>English_Score</th>\n",
       "      <th>Science_Score</th>\n",
       "      <th>Attendance</th>\n",
       "    </tr>\n",
       "  </thead>\n",
       "  <tbody>\n",
       "    <tr>\n",
       "      <th>count</th>\n",
       "      <td>1004.000000</td>\n",
       "      <td>1004.000000</td>\n",
       "      <td>1004.000000</td>\n",
       "      <td>1004.000000</td>\n",
       "    </tr>\n",
       "    <tr>\n",
       "      <th>mean</th>\n",
       "      <td>75.219844</td>\n",
       "      <td>70.877752</td>\n",
       "      <td>78.021221</td>\n",
       "      <td>84.858825</td>\n",
       "    </tr>\n",
       "    <tr>\n",
       "      <th>std</th>\n",
       "      <td>10.058027</td>\n",
       "      <td>12.188226</td>\n",
       "      <td>8.141387</td>\n",
       "      <td>5.348865</td>\n",
       "    </tr>\n",
       "    <tr>\n",
       "      <th>min</th>\n",
       "      <td>30.000000</td>\n",
       "      <td>20.000000</td>\n",
       "      <td>25.000000</td>\n",
       "      <td>40.000000</td>\n",
       "    </tr>\n",
       "    <tr>\n",
       "      <th>25%</th>\n",
       "      <td>68.524097</td>\n",
       "      <td>62.725100</td>\n",
       "      <td>72.801361</td>\n",
       "      <td>81.233628</td>\n",
       "    </tr>\n",
       "    <tr>\n",
       "      <th>50%</th>\n",
       "      <td>75.264884</td>\n",
       "      <td>70.756926</td>\n",
       "      <td>77.951531</td>\n",
       "      <td>84.976378</td>\n",
       "    </tr>\n",
       "    <tr>\n",
       "      <th>75%</th>\n",
       "      <td>81.479439</td>\n",
       "      <td>78.824432</td>\n",
       "      <td>83.287323</td>\n",
       "      <td>88.334727</td>\n",
       "    </tr>\n",
       "    <tr>\n",
       "      <th>max</th>\n",
       "      <td>135.000000</td>\n",
       "      <td>125.000000</td>\n",
       "      <td>120.000000</td>\n",
       "      <td>101.215465</td>\n",
       "    </tr>\n",
       "  </tbody>\n",
       "</table>\n",
       "</div>"
      ],
      "text/plain": [
       "        Math_Score  English_Score  Science_Score   Attendance\n",
       "count  1004.000000    1004.000000    1004.000000  1004.000000\n",
       "mean     75.219844      70.877752      78.021221    84.858825\n",
       "std      10.058027      12.188226       8.141387     5.348865\n",
       "min      30.000000      20.000000      25.000000    40.000000\n",
       "25%      68.524097      62.725100      72.801361    81.233628\n",
       "50%      75.264884      70.756926      77.951531    84.976378\n",
       "75%      81.479439      78.824432      83.287323    88.334727\n",
       "max     135.000000     125.000000     120.000000   101.215465"
      ]
     },
     "execution_count": 5,
     "metadata": {},
     "output_type": "execute_result"
    }
   ],
   "source": [
    "df.describe()\n"
   ]
  },
  {
   "cell_type": "code",
   "execution_count": 6,
   "id": "a44bffd6-966a-4707-8525-c6a946159d3f",
   "metadata": {},
   "outputs": [
    {
     "name": "stdout",
     "output_type": "stream",
     "text": [
      "<class 'pandas.core.frame.DataFrame'>\n",
      "RangeIndex: 1005 entries, 0 to 1004\n",
      "Data columns (total 6 columns):\n",
      " #   Column         Non-Null Count  Dtype  \n",
      "---  ------         --------------  -----  \n",
      " 0   Student_ID     1005 non-null   object \n",
      " 1   Gender         1005 non-null   object \n",
      " 2   Math_Score     1004 non-null   float64\n",
      " 3   English_Score  1004 non-null   float64\n",
      " 4   Science_Score  1004 non-null   float64\n",
      " 5   Attendance     1004 non-null   float64\n",
      "dtypes: float64(4), object(2)\n",
      "memory usage: 47.2+ KB\n"
     ]
    }
   ],
   "source": [
    "df.info()"
   ]
  },
  {
   "cell_type": "code",
   "execution_count": 7,
   "id": "2e2d476d-1d23-4cad-ab98-501705d97e29",
   "metadata": {},
   "outputs": [
    {
     "data": {
      "text/plain": [
       "Student_ID       0\n",
       "Gender           0\n",
       "Math_Score       1\n",
       "English_Score    1\n",
       "Science_Score    1\n",
       "Attendance       1\n",
       "dtype: int64"
      ]
     },
     "execution_count": 7,
     "metadata": {},
     "output_type": "execute_result"
    }
   ],
   "source": [
    "df.isnull().sum()"
   ]
  },
  {
   "cell_type": "code",
   "execution_count": 8,
   "id": "ffefe495-4622-4fbd-9b48-de97573b0774",
   "metadata": {},
   "outputs": [
    {
     "data": {
      "text/html": [
       "<div>\n",
       "<style scoped>\n",
       "    .dataframe tbody tr th:only-of-type {\n",
       "        vertical-align: middle;\n",
       "    }\n",
       "\n",
       "    .dataframe tbody tr th {\n",
       "        vertical-align: top;\n",
       "    }\n",
       "\n",
       "    .dataframe thead th {\n",
       "        text-align: right;\n",
       "    }\n",
       "</style>\n",
       "<table border=\"1\" class=\"dataframe\">\n",
       "  <thead>\n",
       "    <tr style=\"text-align: right;\">\n",
       "      <th></th>\n",
       "      <th>Student_ID</th>\n",
       "      <th>Gender</th>\n",
       "      <th>Math_Score</th>\n",
       "      <th>English_Score</th>\n",
       "      <th>Science_Score</th>\n",
       "      <th>Attendance</th>\n",
       "    </tr>\n",
       "  </thead>\n",
       "  <tbody>\n",
       "    <tr>\n",
       "      <th>0</th>\n",
       "      <td>S1001</td>\n",
       "      <td>Female</td>\n",
       "      <td>79.967142</td>\n",
       "      <td>86.792265</td>\n",
       "      <td>72.598574</td>\n",
       "      <td>75.460962</td>\n",
       "    </tr>\n",
       "    <tr>\n",
       "      <th>1</th>\n",
       "      <td>S1002</td>\n",
       "      <td>Male</td>\n",
       "      <td>73.617357</td>\n",
       "      <td>81.095604</td>\n",
       "      <td>76.843851</td>\n",
       "      <td>80.698075</td>\n",
       "    </tr>\n",
       "    <tr>\n",
       "      <th>2</th>\n",
       "      <td>S1003</td>\n",
       "      <td>Female</td>\n",
       "      <td>81.476885</td>\n",
       "      <td>70.715564</td>\n",
       "      <td>71.660641</td>\n",
       "      <td>82.931972</td>\n",
       "    </tr>\n",
       "    <tr>\n",
       "      <th>3</th>\n",
       "      <td>S1004</td>\n",
       "      <td>Female</td>\n",
       "      <td>90.230299</td>\n",
       "      <td>62.236759</td>\n",
       "      <td>75.536308</td>\n",
       "      <td>94.438438</td>\n",
       "    </tr>\n",
       "    <tr>\n",
       "      <th>4</th>\n",
       "      <td>S1005</td>\n",
       "      <td>Female</td>\n",
       "      <td>72.658466</td>\n",
       "      <td>78.378680</td>\n",
       "      <td>62.851083</td>\n",
       "      <td>87.782766</td>\n",
       "    </tr>\n",
       "    <tr>\n",
       "      <th>...</th>\n",
       "      <td>...</td>\n",
       "      <td>...</td>\n",
       "      <td>...</td>\n",
       "      <td>...</td>\n",
       "      <td>...</td>\n",
       "      <td>...</td>\n",
       "    </tr>\n",
       "    <tr>\n",
       "      <th>1000</th>\n",
       "      <td>S2001</td>\n",
       "      <td>Male</td>\n",
       "      <td>30.000000</td>\n",
       "      <td>20.000000</td>\n",
       "      <td>25.000000</td>\n",
       "      <td>40.000000</td>\n",
       "    </tr>\n",
       "    <tr>\n",
       "      <th>1001</th>\n",
       "      <td>S2002</td>\n",
       "      <td>Male</td>\n",
       "      <td>135.000000</td>\n",
       "      <td>125.000000</td>\n",
       "      <td>120.000000</td>\n",
       "      <td>100.000000</td>\n",
       "    </tr>\n",
       "    <tr>\n",
       "      <th>1002</th>\n",
       "      <td>S1001</td>\n",
       "      <td>Female</td>\n",
       "      <td>79.967142</td>\n",
       "      <td>86.792265</td>\n",
       "      <td>72.598574</td>\n",
       "      <td>75.460962</td>\n",
       "    </tr>\n",
       "    <tr>\n",
       "      <th>1003</th>\n",
       "      <td>S1002</td>\n",
       "      <td>Male</td>\n",
       "      <td>73.617357</td>\n",
       "      <td>81.095604</td>\n",
       "      <td>76.843851</td>\n",
       "      <td>80.698075</td>\n",
       "    </tr>\n",
       "    <tr>\n",
       "      <th>1004</th>\n",
       "      <td>S1003</td>\n",
       "      <td>Female</td>\n",
       "      <td>81.476885</td>\n",
       "      <td>70.715564</td>\n",
       "      <td>71.660641</td>\n",
       "      <td>82.931972</td>\n",
       "    </tr>\n",
       "  </tbody>\n",
       "</table>\n",
       "<p>1005 rows × 6 columns</p>\n",
       "</div>"
      ],
      "text/plain": [
       "     Student_ID  Gender  Math_Score  English_Score  Science_Score  Attendance\n",
       "0         S1001  Female   79.967142      86.792265      72.598574   75.460962\n",
       "1         S1002    Male   73.617357      81.095604      76.843851   80.698075\n",
       "2         S1003  Female   81.476885      70.715564      71.660641   82.931972\n",
       "3         S1004  Female   90.230299      62.236759      75.536308   94.438438\n",
       "4         S1005  Female   72.658466      78.378680      62.851083   87.782766\n",
       "...         ...     ...         ...            ...            ...         ...\n",
       "1000      S2001    Male   30.000000      20.000000      25.000000   40.000000\n",
       "1001      S2002    Male  135.000000     125.000000     120.000000  100.000000\n",
       "1002      S1001  Female   79.967142      86.792265      72.598574   75.460962\n",
       "1003      S1002    Male   73.617357      81.095604      76.843851   80.698075\n",
       "1004      S1003  Female   81.476885      70.715564      71.660641   82.931972\n",
       "\n",
       "[1005 rows x 6 columns]"
      ]
     },
     "execution_count": 8,
     "metadata": {},
     "output_type": "execute_result"
    }
   ],
   "source": [
    "df"
   ]
  },
  {
   "cell_type": "code",
   "execution_count": 9,
   "id": "8b0d818a-c9db-468d-a2ff-d76451dceaf7",
   "metadata": {},
   "outputs": [],
   "source": [
    "df[\"Math_Score\"]=df[\"Math_Score\"].fillna(df[\"Math_Score\"].median())"
   ]
  },
  {
   "cell_type": "code",
   "execution_count": 10,
   "id": "8b46925b-26bc-4a91-906e-37231622b771",
   "metadata": {},
   "outputs": [],
   "source": [
    "df[\"English_Score\"]=df[\"English_Score\"].fillna(df[\"English_Score\"].median())"
   ]
  },
  {
   "cell_type": "code",
   "execution_count": 11,
   "id": "65da3162-bd73-4049-980e-fd937fd51402",
   "metadata": {},
   "outputs": [],
   "source": [
    "df[\"Science_Score\"]=df[\"Science_Score\"].fillna(df[\"Science_Score\"].median())"
   ]
  },
  {
   "cell_type": "code",
   "execution_count": 12,
   "id": "279fd887-fb0d-4b8d-becc-39b3a2c2bac0",
   "metadata": {},
   "outputs": [],
   "source": [
    "df[\"Attendance\"]=df[\"Attendance\"].fillna(df[\"Attendance\"].median())"
   ]
  },
  {
   "cell_type": "code",
   "execution_count": 13,
   "id": "dcb92b92-eca0-464b-b846-2af86edc2336",
   "metadata": {},
   "outputs": [
    {
     "data": {
      "text/plain": [
       "Student_ID       0\n",
       "Gender           0\n",
       "Math_Score       0\n",
       "English_Score    0\n",
       "Science_Score    0\n",
       "Attendance       0\n",
       "dtype: int64"
      ]
     },
     "execution_count": 13,
     "metadata": {},
     "output_type": "execute_result"
    }
   ],
   "source": [
    "df.isnull().sum()"
   ]
  },
  {
   "cell_type": "code",
   "execution_count": 14,
   "id": "ae1138e0-fd4a-4e05-a962-3aa56a770ae3",
   "metadata": {},
   "outputs": [],
   "source": [
    "import seaborn as sns\n",
    "import matplotlib.pyplot as plt"
   ]
  },
  {
   "cell_type": "code",
   "execution_count": 15,
   "id": "8e369976-5cfe-4557-ade3-0035074da4be",
   "metadata": {},
   "outputs": [
    {
     "data": {
      "text/plain": [
       "Text(0.5, 1.0, 'Math score')"
      ]
     },
     "execution_count": 15,
     "metadata": {},
     "output_type": "execute_result"
    },
    {
     "data": {
      "image/png": "[encoded data removed]",
      "text/plain": [
       "<Figure size 640x480 with 1 Axes>"
      ]
     },
     "metadata": {},
     "output_type": "display_data"
    }
   ],
   "source": [
    "sns.histplot(df['Math_Score'],bins = 20,kde = True,color =\"red\")\n",
    "plt.title(\"Math score\")"
   ]
  },
  {
   "cell_type": "code",
   "execution_count": 16,
   "id": "110d599f-65ab-404c-8d1e-1401b311c3fb",
   "metadata": {},
   "outputs": [
    {
     "data": {
      "text/html": [
       "<div>\n",
       "<style scoped>\n",
       "    .dataframe tbody tr th:only-of-type {\n",
       "        vertical-align: middle;\n",
       "    }\n",
       "\n",
       "    .dataframe tbody tr th {\n",
       "        vertical-align: top;\n",
       "    }\n",
       "\n",
       "    .dataframe thead th {\n",
       "        text-align: right;\n",
       "    }\n",
       "</style>\n",
       "<table border=\"1\" class=\"dataframe\">\n",
       "  <thead>\n",
       "    <tr style=\"text-align: right;\">\n",
       "      <th></th>\n",
       "      <th>Student_ID</th>\n",
       "      <th>Gender</th>\n",
       "      <th>Math_Score</th>\n",
       "      <th>English_Score</th>\n",
       "      <th>Science_Score</th>\n",
       "      <th>Attendance</th>\n",
       "    </tr>\n",
       "  </thead>\n",
       "  <tbody>\n",
       "    <tr>\n",
       "      <th>0</th>\n",
       "      <td>S1001</td>\n",
       "      <td>Female</td>\n",
       "      <td>79.967142</td>\n",
       "      <td>86.792265</td>\n",
       "      <td>72.598574</td>\n",
       "      <td>75.460962</td>\n",
       "    </tr>\n",
       "    <tr>\n",
       "      <th>1</th>\n",
       "      <td>S1002</td>\n",
       "      <td>Male</td>\n",
       "      <td>73.617357</td>\n",
       "      <td>81.095604</td>\n",
       "      <td>76.843851</td>\n",
       "      <td>80.698075</td>\n",
       "    </tr>\n",
       "    <tr>\n",
       "      <th>2</th>\n",
       "      <td>S1003</td>\n",
       "      <td>Female</td>\n",
       "      <td>81.476885</td>\n",
       "      <td>70.715564</td>\n",
       "      <td>71.660641</td>\n",
       "      <td>82.931972</td>\n",
       "    </tr>\n",
       "    <tr>\n",
       "      <th>3</th>\n",
       "      <td>S1004</td>\n",
       "      <td>Female</td>\n",
       "      <td>90.230299</td>\n",
       "      <td>62.236759</td>\n",
       "      <td>75.536308</td>\n",
       "      <td>94.438438</td>\n",
       "    </tr>\n",
       "    <tr>\n",
       "      <th>4</th>\n",
       "      <td>S1005</td>\n",
       "      <td>Female</td>\n",
       "      <td>72.658466</td>\n",
       "      <td>78.378680</td>\n",
       "      <td>62.851083</td>\n",
       "      <td>87.782766</td>\n",
       "    </tr>\n",
       "  </tbody>\n",
       "</table>\n",
       "</div>"
      ],
      "text/plain": [
       "  Student_ID  Gender  Math_Score  English_Score  Science_Score  Attendance\n",
       "0      S1001  Female   79.967142      86.792265      72.598574   75.460962\n",
       "1      S1002    Male   73.617357      81.095604      76.843851   80.698075\n",
       "2      S1003  Female   81.476885      70.715564      71.660641   82.931972\n",
       "3      S1004  Female   90.230299      62.236759      75.536308   94.438438\n",
       "4      S1005  Female   72.658466      78.378680      62.851083   87.782766"
      ]
     },
     "execution_count": 16,
     "metadata": {},
     "output_type": "execute_result"
    }
   ],
   "source": [
    "df.head()"
   ]
  },
  {
   "cell_type": "code",
   "execution_count": 17,
   "id": "51ad508c-b3d6-441b-94ec-98ae4eea0da5",
   "metadata": {},
   "outputs": [
    {
     "data": {
      "text/plain": [
       "Text(0.5, 1.0, 'science score')"
      ]
     },
     "execution_count": 17,
     "metadata": {},
     "output_type": "execute_result"
    },
    {
     "data": {
      "image/png": "[encoded data removed]",
      "text/plain": [
       "<Figure size 640x480 with 1 Axes>"
      ]
     },
     "metadata": {},
     "output_type": "display_data"
    }
   ],
   "source": [
    "sns.histplot(df['Science_Score'],bins = 20,kde = True,color =\"red\")\n",
    "plt.title(\"science score\")"
   ]
  },
  {
   "cell_type": "code",
   "execution_count": 18,
   "id": "383ec8c1-4d82-4dd2-a12c-afadeb2f58b9",
   "metadata": {},
   "outputs": [
    {
     "data": {
      "text/plain": [
       "Text(0.5, 1.0, 'English score')"
      ]
     },
     "execution_count": 18,
     "metadata": {},
     "output_type": "execute_result"
    },
    {
     "data": {
      "image/png": "[encoded data removed]",
      "text/plain": [
       "<Figure size 640x480 with 1 Axes>"
      ]
     },
     "metadata": {},
     "output_type": "display_data"
    }
   ],
   "source": [
    "sns.histplot(df['English_Score'],bins = 20,kde = True,color =\"red\")\n",
    "plt.title(\"English score\")"
   ]
  },
  {
   "cell_type": "code",
   "execution_count": 19,
   "id": "1ca796f4-618b-4e3d-92cd-6dbac61bd57c",
   "metadata": {},
   "outputs": [],
   "source": [
    "from scipy.stats import zscore"
   ]
  },
  {
   "cell_type": "code",
   "execution_count": 20,
   "id": "bda76b40-b9d6-486d-b95c-6f1c88f949a3",
   "metadata": {},
   "outputs": [],
   "source": [
    "z_score = df[[\"Math_Score\",\"English_Score\",\"Science_Score\",\"Attendance\"]].apply(zscore)"
   ]
  },
  {
   "cell_type": "code",
   "execution_count": 21,
   "id": "69571a4f-f52e-48df-a516-51191b12d0ec",
   "metadata": {},
   "outputs": [
    {
     "data": {
      "text/html": [
       "<div>\n",
       "<style scoped>\n",
       "    .dataframe tbody tr th:only-of-type {\n",
       "        vertical-align: middle;\n",
       "    }\n",
       "\n",
       "    .dataframe tbody tr th {\n",
       "        vertical-align: top;\n",
       "    }\n",
       "\n",
       "    .dataframe thead th {\n",
       "        text-align: right;\n",
       "    }\n",
       "</style>\n",
       "<table border=\"1\" class=\"dataframe\">\n",
       "  <thead>\n",
       "    <tr style=\"text-align: right;\">\n",
       "      <th></th>\n",
       "      <th>Math_Score</th>\n",
       "      <th>English_Score</th>\n",
       "      <th>Science_Score</th>\n",
       "      <th>Attendance</th>\n",
       "    </tr>\n",
       "  </thead>\n",
       "  <tbody>\n",
       "    <tr>\n",
       "      <th>0</th>\n",
       "      <td>0.472457</td>\n",
       "      <td>1.307039</td>\n",
       "      <td>-0.666715</td>\n",
       "      <td>-1.758755</td>\n",
       "    </tr>\n",
       "    <tr>\n",
       "      <th>1</th>\n",
       "      <td>-0.159487</td>\n",
       "      <td>0.839183</td>\n",
       "      <td>-0.144751</td>\n",
       "      <td>-0.778672</td>\n",
       "    </tr>\n",
       "    <tr>\n",
       "      <th>2</th>\n",
       "      <td>0.622710</td>\n",
       "      <td>-0.013310</td>\n",
       "      <td>-0.782035</td>\n",
       "      <td>-0.360617</td>\n",
       "    </tr>\n",
       "    <tr>\n",
       "      <th>3</th>\n",
       "      <td>1.493868</td>\n",
       "      <td>-0.709659</td>\n",
       "      <td>-0.305516</td>\n",
       "      <td>1.792724</td>\n",
       "    </tr>\n",
       "    <tr>\n",
       "      <th>4</th>\n",
       "      <td>-0.254918</td>\n",
       "      <td>0.616047</td>\n",
       "      <td>-1.865184</td>\n",
       "      <td>0.547170</td>\n",
       "    </tr>\n",
       "    <tr>\n",
       "      <th>...</th>\n",
       "      <td>...</td>\n",
       "      <td>...</td>\n",
       "      <td>...</td>\n",
       "      <td>...</td>\n",
       "    </tr>\n",
       "    <tr>\n",
       "      <th>1000</th>\n",
       "      <td>-4.500381</td>\n",
       "      <td>-4.178486</td>\n",
       "      <td>-6.519035</td>\n",
       "      <td>-8.394983</td>\n",
       "    </tr>\n",
       "    <tr>\n",
       "      <th>1001</th>\n",
       "      <td>5.949445</td>\n",
       "      <td>4.444970</td>\n",
       "      <td>5.161366</td>\n",
       "      <td>2.833525</td>\n",
       "    </tr>\n",
       "    <tr>\n",
       "      <th>1002</th>\n",
       "      <td>0.472457</td>\n",
       "      <td>1.307039</td>\n",
       "      <td>-0.666715</td>\n",
       "      <td>-1.758755</td>\n",
       "    </tr>\n",
       "    <tr>\n",
       "      <th>1003</th>\n",
       "      <td>-0.159487</td>\n",
       "      <td>0.839183</td>\n",
       "      <td>-0.144751</td>\n",
       "      <td>-0.778672</td>\n",
       "    </tr>\n",
       "    <tr>\n",
       "      <th>1004</th>\n",
       "      <td>0.622710</td>\n",
       "      <td>-0.013310</td>\n",
       "      <td>-0.782035</td>\n",
       "      <td>-0.360617</td>\n",
       "    </tr>\n",
       "  </tbody>\n",
       "</table>\n",
       "<p>1005 rows × 4 columns</p>\n",
       "</div>"
      ],
      "text/plain": [
       "      Math_Score  English_Score  Science_Score  Attendance\n",
       "0       0.472457       1.307039      -0.666715   -1.758755\n",
       "1      -0.159487       0.839183      -0.144751   -0.778672\n",
       "2       0.622710      -0.013310      -0.782035   -0.360617\n",
       "3       1.493868      -0.709659      -0.305516    1.792724\n",
       "4      -0.254918       0.616047      -1.865184    0.547170\n",
       "...          ...            ...            ...         ...\n",
       "1000   -4.500381      -4.178486      -6.519035   -8.394983\n",
       "1001    5.949445       4.444970       5.161366    2.833525\n",
       "1002    0.472457       1.307039      -0.666715   -1.758755\n",
       "1003   -0.159487       0.839183      -0.144751   -0.778672\n",
       "1004    0.622710      -0.013310      -0.782035   -0.360617\n",
       "\n",
       "[1005 rows x 4 columns]"
      ]
     },
     "execution_count": 21,
     "metadata": {},
     "output_type": "execute_result"
    }
   ],
   "source": [
    "z_score"
   ]
  },
  {
   "cell_type": "code",
   "execution_count": 22,
   "id": "e53736b4-42d7-4cc6-a929-77434177a9c9",
   "metadata": {},
   "outputs": [
    {
     "data": {
      "text/html": [
       "<div>\n",
       "<style scoped>\n",
       "    .dataframe tbody tr th:only-of-type {\n",
       "        vertical-align: middle;\n",
       "    }\n",
       "\n",
       "    .dataframe tbody tr th {\n",
       "        vertical-align: top;\n",
       "    }\n",
       "\n",
       "    .dataframe thead th {\n",
       "        text-align: right;\n",
       "    }\n",
       "</style>\n",
       "<table border=\"1\" class=\"dataframe\">\n",
       "  <thead>\n",
       "    <tr style=\"text-align: right;\">\n",
       "      <th></th>\n",
       "      <th>Math_Score</th>\n",
       "      <th>English_Score</th>\n",
       "      <th>Science_Score</th>\n",
       "      <th>Attendance</th>\n",
       "    </tr>\n",
       "  </thead>\n",
       "  <tbody>\n",
       "    <tr>\n",
       "      <th>0</th>\n",
       "      <td>False</td>\n",
       "      <td>False</td>\n",
       "      <td>False</td>\n",
       "      <td>False</td>\n",
       "    </tr>\n",
       "    <tr>\n",
       "      <th>1</th>\n",
       "      <td>False</td>\n",
       "      <td>False</td>\n",
       "      <td>False</td>\n",
       "      <td>False</td>\n",
       "    </tr>\n",
       "    <tr>\n",
       "      <th>2</th>\n",
       "      <td>False</td>\n",
       "      <td>False</td>\n",
       "      <td>False</td>\n",
       "      <td>False</td>\n",
       "    </tr>\n",
       "    <tr>\n",
       "      <th>3</th>\n",
       "      <td>False</td>\n",
       "      <td>False</td>\n",
       "      <td>False</td>\n",
       "      <td>False</td>\n",
       "    </tr>\n",
       "    <tr>\n",
       "      <th>4</th>\n",
       "      <td>False</td>\n",
       "      <td>False</td>\n",
       "      <td>False</td>\n",
       "      <td>False</td>\n",
       "    </tr>\n",
       "    <tr>\n",
       "      <th>...</th>\n",
       "      <td>...</td>\n",
       "      <td>...</td>\n",
       "      <td>...</td>\n",
       "      <td>...</td>\n",
       "    </tr>\n",
       "    <tr>\n",
       "      <th>1000</th>\n",
       "      <td>True</td>\n",
       "      <td>True</td>\n",
       "      <td>True</td>\n",
       "      <td>True</td>\n",
       "    </tr>\n",
       "    <tr>\n",
       "      <th>1001</th>\n",
       "      <td>True</td>\n",
       "      <td>True</td>\n",
       "      <td>True</td>\n",
       "      <td>False</td>\n",
       "    </tr>\n",
       "    <tr>\n",
       "      <th>1002</th>\n",
       "      <td>False</td>\n",
       "      <td>False</td>\n",
       "      <td>False</td>\n",
       "      <td>False</td>\n",
       "    </tr>\n",
       "    <tr>\n",
       "      <th>1003</th>\n",
       "      <td>False</td>\n",
       "      <td>False</td>\n",
       "      <td>False</td>\n",
       "      <td>False</td>\n",
       "    </tr>\n",
       "    <tr>\n",
       "      <th>1004</th>\n",
       "      <td>False</td>\n",
       "      <td>False</td>\n",
       "      <td>False</td>\n",
       "      <td>False</td>\n",
       "    </tr>\n",
       "  </tbody>\n",
       "</table>\n",
       "<p>1005 rows × 4 columns</p>\n",
       "</div>"
      ],
      "text/plain": [
       "      Math_Score  English_Score  Science_Score  Attendance\n",
       "0          False          False          False       False\n",
       "1          False          False          False       False\n",
       "2          False          False          False       False\n",
       "3          False          False          False       False\n",
       "4          False          False          False       False\n",
       "...          ...            ...            ...         ...\n",
       "1000        True           True           True        True\n",
       "1001        True           True           True       False\n",
       "1002       False          False          False       False\n",
       "1003       False          False          False       False\n",
       "1004       False          False          False       False\n",
       "\n",
       "[1005 rows x 4 columns]"
      ]
     },
     "execution_count": 22,
     "metadata": {},
     "output_type": "execute_result"
    }
   ],
   "source": [
    "outliers = (z_score <-3) | (z_score > 3)\n",
    "outliers"
   ]
  },
  {
   "cell_type": "code",
   "execution_count": 23,
   "id": "905855b0-9db1-478b-99fa-0913743320f2",
   "metadata": {},
   "outputs": [
    {
     "data": {
      "text/plain": [
       "Math_Score       5\n",
       "English_Score    4\n",
       "Science_Score    4\n",
       "Attendance       2\n",
       "dtype: int64"
      ]
     },
     "execution_count": 23,
     "metadata": {},
     "output_type": "execute_result"
    }
   ],
   "source": [
    "Totout = outliers.sum()\n",
    "Totout"
   ]
  },
  {
   "cell_type": "code",
   "execution_count": 24,
   "id": "afd915b5-f043-4a76-8a3b-10eb4d7dfbbc",
   "metadata": {},
   "outputs": [],
   "source": [
    "numeric_cols =['Math_Score','English_Score','Science_Score']\n",
    "original_stats={}"
   ]
  },
  {
   "cell_type": "code",
   "execution_count": 25,
   "id": "cb25e83a-efb4-40c8-974e-37bc729ffc5f",
   "metadata": {},
   "outputs": [
    {
     "name": "stdout",
     "output_type": "stream",
     "text": [
      "clipped values in Math_Score\n",
      "clipped values in English_Score\n",
      "clipped values in Science_Score\n"
     ]
    }
   ],
   "source": [
    "for col in numeric_cols:\n",
    "    mean_val = df[col].mean()\n",
    "    df[col] =df[col].fillna(mean_val)\n",
    "    std_val = df[col].std()\n",
    "    original_stats[col] = (mean_val,std_val)\n",
    "    df[col] = df[col].clip(lower = mean_val - 3 * std_val , upper = mean_val + 3 * std_val)\n",
    "    print(f\"clipped values in {col}\")"
   ]
  },
  {
   "cell_type": "code",
   "execution_count": 26,
   "id": "bada418a-6250-417f-b779-7511c2f386bf",
   "metadata": {},
   "outputs": [
    {
     "name": "stdout",
     "output_type": "stream",
     "text": [
      "outliers is 0 in Math_Score\n",
      "outliers is 0 in English_Score\n",
      "outliers is 0 in Science_Score\n"
     ]
    }
   ],
   "source": [
    "for col in numeric_cols:\n",
    "    mean_val = df[col].mean()\n",
    "    std_val = df[col].std()\n",
    "    mean_val , std_val = original_stats[col]\n",
    "    lower_bound = mean_val - 3 * std_val\n",
    "    upper_bound = mean_val + 3 * std_val\n",
    "    outliers_remaining = df[(df[col] < lower_bound) | (df[col] > upper_bound)].shape[0]\n",
    "    if outliers_remaining == 0:\n",
    "       print(f\"outliers is {outliers_remaining} in {col}\")\n",
    "    else:\n",
    "        print(\"outliers are there\")"
   ]
  },
  {
   "cell_type": "code",
   "execution_count": 27,
   "id": "1d45db63-b708-43bf-a287-a622bc6006bc",
   "metadata": {},
   "outputs": [
    {
     "name": "stdout",
     "output_type": "stream",
     "text": [
      "outliers is 0 in Math_Score\n",
      "outliers is 0 in English_Score\n",
      "outliers is 0 in Science_Score\n"
     ]
    }
   ],
   "source": [
    "for col in numeric_cols:\n",
    "    mean_val , std_val = original_stats[col]\n",
    "    lower_bound = mean_val - 3 * std_val\n",
    "    upper_bound = mean_val + 3 * std_val\n",
    "    outliers_remaining = df[(df[col] < lower_bound) | (df[col] > upper_bound)].shape[0]\n",
    "    print(f\"outliers is {outliers_remaining} in {col}\")\n",
    "    "
   ]
  },
  {
   "cell_type": "code",
   "execution_count": 28,
   "id": "d7170826-3696-42ab-9a8f-04ad000d82f8",
   "metadata": {},
   "outputs": [
    {
     "data": {
      "text/html": [
       "<div>\n",
       "<style scoped>\n",
       "    .dataframe tbody tr th:only-of-type {\n",
       "        vertical-align: middle;\n",
       "    }\n",
       "\n",
       "    .dataframe tbody tr th {\n",
       "        vertical-align: top;\n",
       "    }\n",
       "\n",
       "    .dataframe thead th {\n",
       "        text-align: right;\n",
       "    }\n",
       "</style>\n",
       "<table border=\"1\" class=\"dataframe\">\n",
       "  <thead>\n",
       "    <tr style=\"text-align: right;\">\n",
       "      <th></th>\n",
       "      <th>Student_ID</th>\n",
       "      <th>Gender</th>\n",
       "      <th>Math_Score</th>\n",
       "      <th>English_Score</th>\n",
       "      <th>Science_Score</th>\n",
       "      <th>Attendance</th>\n",
       "    </tr>\n",
       "  </thead>\n",
       "  <tbody>\n",
       "  </tbody>\n",
       "</table>\n",
       "</div>"
      ],
      "text/plain": [
       "Empty DataFrame\n",
       "Columns: [Student_ID, Gender, Math_Score, English_Score, Science_Score, Attendance]\n",
       "Index: []"
      ]
     },
     "execution_count": 28,
     "metadata": {},
     "output_type": "execute_result"
    }
   ],
   "source": [
    "df[df['Math_Score'].isnull()]"
   ]
  },
  {
   "cell_type": "code",
   "execution_count": 29,
   "id": "0d1a507d-0d90-4831-aebd-e3422d98d3d4",
   "metadata": {},
   "outputs": [
    {
     "data": {
      "text/html": [
       "<div>\n",
       "<style scoped>\n",
       "    .dataframe tbody tr th:only-of-type {\n",
       "        vertical-align: middle;\n",
       "    }\n",
       "\n",
       "    .dataframe tbody tr th {\n",
       "        vertical-align: top;\n",
       "    }\n",
       "\n",
       "    .dataframe thead th {\n",
       "        text-align: right;\n",
       "    }\n",
       "</style>\n",
       "<table border=\"1\" class=\"dataframe\">\n",
       "  <thead>\n",
       "    <tr style=\"text-align: right;\">\n",
       "      <th></th>\n",
       "      <th>Student_ID</th>\n",
       "      <th>Gender</th>\n",
       "      <th>Math_Score</th>\n",
       "      <th>English_Score</th>\n",
       "      <th>Science_Score</th>\n",
       "      <th>Attendance</th>\n",
       "    </tr>\n",
       "  </thead>\n",
       "  <tbody>\n",
       "  </tbody>\n",
       "</table>\n",
       "</div>"
      ],
      "text/plain": [
       "Empty DataFrame\n",
       "Columns: [Student_ID, Gender, Math_Score, English_Score, Science_Score, Attendance]\n",
       "Index: []"
      ]
     },
     "execution_count": 29,
     "metadata": {},
     "output_type": "execute_result"
    }
   ],
   "source": [
    "df[df['English_Score'].isnull()]"
   ]
  },
  {
   "cell_type": "code",
   "execution_count": 30,
   "id": "53ef983b-14dd-4e04-b523-4d3d296ef321",
   "metadata": {},
   "outputs": [
    {
     "data": {
      "text/html": [
       "<div>\n",
       "<style scoped>\n",
       "    .dataframe tbody tr th:only-of-type {\n",
       "        vertical-align: middle;\n",
       "    }\n",
       "\n",
       "    .dataframe tbody tr th {\n",
       "        vertical-align: top;\n",
       "    }\n",
       "\n",
       "    .dataframe thead th {\n",
       "        text-align: right;\n",
       "    }\n",
       "</style>\n",
       "<table border=\"1\" class=\"dataframe\">\n",
       "  <thead>\n",
       "    <tr style=\"text-align: right;\">\n",
       "      <th></th>\n",
       "      <th>Student_ID</th>\n",
       "      <th>Gender</th>\n",
       "      <th>Math_Score</th>\n",
       "      <th>English_Score</th>\n",
       "      <th>Science_Score</th>\n",
       "      <th>Attendance</th>\n",
       "    </tr>\n",
       "  </thead>\n",
       "  <tbody>\n",
       "  </tbody>\n",
       "</table>\n",
       "</div>"
      ],
      "text/plain": [
       "Empty DataFrame\n",
       "Columns: [Student_ID, Gender, Math_Score, English_Score, Science_Score, Attendance]\n",
       "Index: []"
      ]
     },
     "execution_count": 30,
     "metadata": {},
     "output_type": "execute_result"
    }
   ],
   "source": [
    "df[df['Science_Score'].isnull()]"
   ]
  },
  {
   "cell_type": "code",
   "execution_count": 31,
   "id": "73461ffd-0946-4e4c-8bfb-392a66c09f4d",
   "metadata": {},
   "outputs": [
    {
     "data": {
      "text/html": [
       "<div>\n",
       "<style scoped>\n",
       "    .dataframe tbody tr th:only-of-type {\n",
       "        vertical-align: middle;\n",
       "    }\n",
       "\n",
       "    .dataframe tbody tr th {\n",
       "        vertical-align: top;\n",
       "    }\n",
       "\n",
       "    .dataframe thead th {\n",
       "        text-align: right;\n",
       "    }\n",
       "</style>\n",
       "<table border=\"1\" class=\"dataframe\">\n",
       "  <thead>\n",
       "    <tr style=\"text-align: right;\">\n",
       "      <th></th>\n",
       "      <th>Student_ID</th>\n",
       "      <th>Gender</th>\n",
       "      <th>Math_Score</th>\n",
       "      <th>English_Score</th>\n",
       "      <th>Science_Score</th>\n",
       "      <th>Attendance</th>\n",
       "    </tr>\n",
       "  </thead>\n",
       "  <tbody>\n",
       "  </tbody>\n",
       "</table>\n",
       "</div>"
      ],
      "text/plain": [
       "Empty DataFrame\n",
       "Columns: [Student_ID, Gender, Math_Score, English_Score, Science_Score, Attendance]\n",
       "Index: []"
      ]
     },
     "execution_count": 31,
     "metadata": {},
     "output_type": "execute_result"
    }
   ],
   "source": [
    "df[df['Attendance'].isnull()]"
   ]
  },
  {
   "cell_type": "code",
   "execution_count": 32,
   "id": "1161b034-a079-4800-aff6-457b3addd16d",
   "metadata": {},
   "outputs": [],
   "source": [
    "missing_indices = df[df.isnull().any(axis=1)].index"
   ]
  },
  {
   "cell_type": "code",
   "execution_count": 33,
   "id": "8b36c970-7e89-4ea9-9b96-002d11837de7",
   "metadata": {},
   "outputs": [
    {
     "data": {
      "text/plain": [
       "Index([], dtype='int64')"
      ]
     },
     "execution_count": 33,
     "metadata": {},
     "output_type": "execute_result"
    }
   ],
   "source": [
    "missing_indices"
   ]
  },
  {
   "cell_type": "code",
   "execution_count": 34,
   "id": "dcb11d46-ec7c-43a8-89d1-fde840d1a673",
   "metadata": {},
   "outputs": [
    {
     "data": {
      "text/plain": [
       "<Figure size 1200x1400 with 0 Axes>"
      ]
     },
     "metadata": {},
     "output_type": "display_data"
    },
    {
     "data": {
      "image/png": "[encoded data removed]",
      "text/plain": [
       "<Figure size 640x480 with 1 Axes>"
      ]
     },
     "metadata": {},
     "output_type": "display_data"
    }
   ],
   "source": [
    "colors = ['red','green','blue','yellow']\n",
    "plt.figure(figsize=(12,14 ))\n",
    "avg_scores_by_gender = df.groupby(\"Gender\")[[\"Math_Score\", \"English_Score\", \"Science_Score\",\"Attendance\"]].mean().reset_index()\n",
    "avg_scores_by_gender.set_index(\"Gender\").plot(kind='bar',color = colors)\n",
    "plt.title(\"Average Subject Scores by Gender\")\n",
    "plt.ylabel(\"Average Score\")\n",
    "plt.tight_layout()\n",
    "plt.show()"
   ]
  },
  {
   "cell_type": "code",
   "execution_count": 35,
   "id": "875d8097-31f8-4f3b-8b97-deac0ad84d86",
   "metadata": {},
   "outputs": [
    {
     "data": {
      "image/png": "[encoded data removed]",
      "text/plain": [
       "<Figure size 800x500 with 1 Axes>"
      ]
     },
     "metadata": {},
     "output_type": "display_data"
    }
   ],
   "source": [
    "plt.figure(figsize=(8, 5))\n",
    "sns.boxplot(data=df)\n",
    "plt.title(\"outliers of my dataset\")\n",
    "plt.show()"
   ]
  },
  {
   "cell_type": "code",
   "execution_count": 36,
   "id": "331ff46f-094b-436b-99c9-66828d7cf965",
   "metadata": {},
   "outputs": [
    {
     "ename": "NameError",
     "evalue": "name 'xs' is not defined",
     "output_type": "error",
     "traceback": [
      "\u001b[1;31m---------------------------------------------------------------------------\u001b[0m",
      "\u001b[1;31mNameError\u001b[0m                                 Traceback (most recent call last)",
      "Cell \u001b[1;32mIn[36], line 5\u001b[0m\n\u001b[0;32m      3\u001b[0m fig \u001b[38;5;241m=\u001b[39m plt\u001b[38;5;241m.\u001b[39mfigure()\n\u001b[0;32m      4\u001b[0m ax \u001b[38;5;241m=\u001b[39m Axes3D(fig)\n\u001b[1;32m----> 5\u001b[0m ax\u001b[38;5;241m.\u001b[39mscatter(xs,ys,zs)\n\u001b[0;32m      6\u001b[0m ax\u001b[38;5;241m.\u001b[39mscatter(xs2,ys2,zs2,c\u001b[38;5;241m=\u001b[39m\u001b[38;5;124m'\u001b[39m\u001b[38;5;124mr\u001b[39m\u001b[38;5;124m'\u001b[39m,marker\u001b[38;5;241m=\u001b[39m\u001b[38;5;124m'\u001b[39m\u001b[38;5;124m^\u001b[39m\u001b[38;5;124m'\u001b[39m)\n\u001b[0;32m      7\u001b[0m ax\u001b[38;5;241m.\u001b[39mscatter(xs3,ys3,zs3,c\u001b[38;5;241m=\u001b[39m\u001b[38;5;124m'\u001b[39m\u001b[38;5;124mg\u001b[39m\u001b[38;5;124m'\u001b[39m,marker\u001b[38;5;241m=\u001b[39m\u001b[38;5;124m'\u001b[39m\u001b[38;5;124m*\u001b[39m\u001b[38;5;124m'\u001b[39m)\n",
      "\u001b[1;31mNameError\u001b[0m: name 'xs' is not defined"
     ]
    },
    {
     "data": {
      "text/plain": [
       "<Figure size 640x480 with 0 Axes>"
      ]
     },
     "metadata": {},
     "output_type": "display_data"
    }
   ],
   "source": [
    "import numpy as np\n",
    "from mpl_toolkits.mplot3d import Axes3D\n",
    "fig = plt.figure()\n",
    "ax = Axes3D(fig)\n",
    "ax.scatter(xs,ys,zs)\n",
    "ax.scatter(xs2,ys2,zs2,c='r',marker='^')\n",
    "ax.scatter(xs3,ys3,zs3,c='g',marker='*')\n",
    "ax.set_xlabel('X Label')\n",
    "ax.set_ylabel('Y Label')\n",
    "ax.set_xlabel('X Label')\n",
    "plt.show()"
   ]
  },
  {
   "cell_type": "code",
   "execution_count": null,
   "id": "f215c092-1520-47b7-8dc2-456ba3116652",
   "metadata": {},
   "outputs": [],
   "source": [
    "plt.figure(figsize=(8, 5))\n",
    "sns.scatterplot(data=df, x='Math_Score', y='Science_Score', hue='Gender')\n",
    "plt.title(\"Math Score vs Science Score\")\n",
    "plt.show()"
   ]
  },
  {
   "cell_type": "code",
   "execution_count": null,
   "id": "b272644b-6b40-4f06-828a-756e895cd004",
   "metadata": {},
   "outputs": [],
   "source": [
    "plt.figure(figsize=(8, 5))\n",
    "df_sorted = df.sort_values(by='Attendance')\n",
    "plt.plot(df_sorted['Attendance'].values, marker='x', linestyle='--',color = 'red')\n",
    "plt.title(\"Sorted Attendance Trend\")\n",
    "plt.xlabel(\"Student Index (Sorted)\")\n",
    "plt.ylabel(\"Attendance\")\n",
    "plt.show()"
   ]
  },
  {
   "cell_type": "code",
   "execution_count": null,
   "id": "e4862f63-7e36-4e36-b5c6-5c341f5913b1",
   "metadata": {},
   "outputs": [],
   "source": [
    "df.head()"
   ]
  },
  {
   "cell_type": "code",
   "execution_count": null,
   "id": "ba05eb86-5d11-400a-9421-6d9ecbda9391",
   "metadata": {},
   "outputs": [],
   "source": [
    "df.groupby('Gender')[['Math_Score','English_Score','Science_Score']].sum().reset_index()"
   ]
  },
  {
   "cell_type": "code",
   "execution_count": null,
   "id": "2ba06915-e2d1-41fe-8944-a60b4511685f",
   "metadata": {},
   "outputs": [],
   "source": [
    "df.groupby('Gender').agg({'Math_Score': 'sum','English_Score': 'sum','Science_Score': 'sum'}).reset_index()"
   ]
  },
  {
   "cell_type": "code",
   "execution_count": null,
   "id": "e54cbd4b-f724-4f8a-8b66-c0a0a3c5d486",
   "metadata": {},
   "outputs": [],
   "source": [
    "cols = df.drop(['Gender'],axis =1,inplace =True)\n",
    "cols\n"
   ]
  },
  {
   "cell_type": "code",
   "execution_count": null,
   "id": "7f8f66c5-1ae5-44ec-944e-59c6b2b4efe2",
   "metadata": {},
   "outputs": [],
   "source": [
    "cild = df.drop(['Student_ID'],axis =1,inplace=True)\n",
    "cild"
   ]
  },
  {
   "cell_type": "code",
   "execution_count": null,
   "id": "972c355f-2497-4ec0-868e-ce7ba6b79f6d",
   "metadata": {},
   "outputs": [],
   "source": [
    "corr_matrix = df.corr()\n",
    "sns.heatmap(corr_matrix,annot =True,cmap='Pastel2')\n",
    "plt.title(\"correlation matrix\")\n",
    "plt.show()"
   ]
  },
  {
   "cell_type": "code",
   "execution_count": null,
   "id": "f7b8729e-74fb-4be9-b32d-f8b9db436572",
   "metadata": {},
   "outputs": [],
   "source": [
    "corr_matrix"
   ]
  },
  {
   "cell_type": "code",
   "execution_count": null,
   "id": "1fc61da5-b392-40cd-bf7a-0531fca37783",
   "metadata": {},
   "outputs": [],
   "source": []
  },
  {
   "cell_type": "code",
   "execution_count": null,
   "id": "6b812edb-0b7c-4ad2-b62c-9845e37e5600",
   "metadata": {},
   "outputs": [],
   "source": []
  },
  {
   "cell_type": "code",
   "execution_count": null,
   "id": "68d3f58f-72d6-40d4-8c29-b18df32b9707",
   "metadata": {},
   "outputs": [],
   "source": []
  },
  {
   "cell_type": "code",
   "execution_count": null,
   "id": "e29387b9-e39a-4a87-b621-0bcaff9e3168",
   "metadata": {},
   "outputs": [],
   "source": []
  }
 ],
 "metadata": {
  "kernelspec": {
   "display_name": "Python 3 (ipykernel)",
   "language": "python",
   "name": "python3"
  },
  "language_info": {
   "codemirror_mode": {
    "name": "ipython",
    "version": 3
   },
   "file_extension": ".py",
   "mimetype": "text/x-python",
   "name": "python",
   "nbconvert_exporter": "python",
   "pygments_lexer": "ipython3",
   "version": "3.12.7"
  }
 },
 "nbformat": 4,
 "nbformat_minor": 5
}
